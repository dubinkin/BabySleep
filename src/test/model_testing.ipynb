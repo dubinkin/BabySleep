{
 "cells": [
  {
   "cell_type": "code",
   "execution_count": 81,
   "metadata": {
    "collapsed": true
   },
   "outputs": [],
   "source": [
    "import pandas as pd\n",
    "import numpy as np\n",
    "import matplotlib.pyplot as plt\n",
    "import os\n",
    "import random\n",
    "from sklearn.metrics import roc_curve, RocCurveDisplay\n",
    "\n",
    "import src.data_processing.load_data as load_data\n",
    "import src.models.LGBM_sleepy_score as sscore\n",
    "import src.models.LGBM_next_step as LGBM1step\n",
    "import src.models.LGBM_avg as LGBMavg\n",
    "import src.models.SARIMAX as SARIMAXfc\n",
    "import src.data_processing.prediction_processing as pred_proc"
   ]
  },
  {
   "cell_type": "code",
   "execution_count": 2,
   "outputs": [],
   "source": [
    "def best_threshold(y_true, y_pred):\n",
    "    '''\n",
    "    Calcuates best threshold value based on G-means evaluation\n",
    "\n",
    "    :param y_true: ground truth\n",
    "    :param y_pred: predicted probabilities\n",
    "    :return: optimal threshold value\n",
    "    '''\n",
    "    fpr, tpr, thresholds = roc_curve(y_true, y_pred)\n",
    "    gmeans = np.sqrt(tpr * (1-fpr))\n",
    "    ix = np.argmax(gmeans)\n",
    "    print('Best Threshold = %f, G-Mean = %.3f' % (thresholds[ix], gmeans[ix]))\n",
    "    return thresholds[ix]"
   ],
   "metadata": {
    "collapsed": false,
    "pycharm": {
     "name": "#%%\n"
    }
   }
  },
  {
   "cell_type": "code",
   "execution_count": 3,
   "outputs": [],
   "source": [
    "DATA_PATH = '../../data/'\n",
    "\n",
    "data = pd.read_csv(os.path.join(DATA_PATH, 'NYU_data_processed/NYU_sleep_df.csv'), parse_dates=['timestamps'], index_col='timestamps')\n",
    "sleep, time0 = load_data.get_sleep('12/06/2021', DATA_PATH)\n",
    "X_train, y_train, Xtt = sscore.prepare_data(sleep, 6 * 24 * 6)"
   ],
   "metadata": {
    "collapsed": false,
    "pycharm": {
     "name": "#%%\n"
    }
   }
  },
  {
   "cell_type": "markdown",
   "source": [
    "# ROC Curves for 1-step prediction\n",
    "### 1. ROC Curve for completely randomly chosen examples\n",
    "First, let us generate a set of 1000 2-month-long time periods which lie between the first 120 days and 215 days of an infant's life.\n",
    "For both LGBM-based models, a model is first trained on a 2-month-long period and then tries to make a prediction of infants' sleep/awake state for the next 10-minute period."
   ],
   "metadata": {
    "collapsed": false,
    "pycharm": {
     "name": "#%% md\n"
    }
   }
  },
  {
   "cell_type": "code",
   "execution_count": 4,
   "outputs": [],
   "source": [
    "DATA_PATH = '../../data/'\n",
    "\n",
    "kidn = 10\n",
    "start = 120 * 24 * 6\n",
    "end = 150 * 24 * 6\n",
    "nrand = 1000\n",
    "startpts = random.sample(range(start, end), nrand)"
   ],
   "metadata": {
    "collapsed": false,
    "pycharm": {
     "name": "#%%\n"
    }
   }
  },
  {
   "cell_type": "code",
   "execution_count": 39,
   "outputs": [],
   "source": [
    "y_true = []\n",
    "y_pred = []\n",
    "for st in startpts:\n",
    "    sleep = data.iloc[st : st + 60 * 24 * 6, [kidn, -4, -3, -2, -1]]\n",
    "    sleep = sleep.rename(columns={str(kidn-1): 'sleep'})\n",
    "    y_true += [data.iloc[st + 60 * 24 * 6, kidn]]\n",
    "    y_pred += [LGBM1step.predict_proba(sleep, DATA_PATH)]"
   ],
   "metadata": {
    "collapsed": false,
    "pycharm": {
     "name": "#%%\n"
    }
   }
  },
  {
   "cell_type": "code",
   "execution_count": 52,
   "outputs": [],
   "source": [
    "#testdata = pd.DataFrame(data = {'startpts': startpts, 'y_true': y_true, 'y_pred': y_pred})\n",
    "#testdata.to_csv('test_data/testdata.csv')"
   ],
   "metadata": {
    "collapsed": false,
    "pycharm": {
     "name": "#%%\n"
    }
   }
  },
  {
   "cell_type": "code",
   "execution_count": 5,
   "outputs": [],
   "source": [
    "newtestdata = pd.read_csv('test_data/testdata.csv', index_col=0)\n",
    "startpts = newtestdata['startpts'].to_numpy()"
   ],
   "metadata": {
    "collapsed": false,
    "pycharm": {
     "name": "#%%\n"
    }
   }
  },
  {
   "cell_type": "code",
   "execution_count": 47,
   "outputs": [
    {
     "data": {
      "text/plain": "<Figure size 432x288 with 1 Axes>",
      "image/png": "[encoded data removed]"
     },
     "metadata": {
      "needs_background": "light"
     },
     "output_type": "display_data"
    }
   ],
   "source": [
    "fig, ax = plt.subplots()\n",
    "RocCurveDisplay.from_predictions(y_true, y_pred, ax = ax)\n",
    "fig.savefig('roc_curves/LGBM_next_step.png')"
   ],
   "metadata": {
    "collapsed": false,
    "pycharm": {
     "name": "#%%\n"
    }
   }
  },
  {
   "cell_type": "markdown",
   "source": [
    "Pick the best threshold value suggested by this result"
   ],
   "metadata": {
    "collapsed": false,
    "pycharm": {
     "name": "#%% md\n"
    }
   }
  },
  {
   "cell_type": "code",
   "execution_count": 108,
   "outputs": [
    {
     "name": "stdout",
     "output_type": "stream",
     "text": [
      "Best Threshold = 0.916857, G-Mean = 0.939\n"
     ]
    }
   ],
   "source": [
    "best_threshold(y_true, y_pred)"
   ],
   "metadata": {
    "collapsed": false,
    "pycharm": {
     "name": "#%%\n"
    }
   }
  },
  {
   "cell_type": "code",
   "execution_count": 33,
   "outputs": [],
   "source": [
    "y_avg_true = []\n",
    "y_avg_pred = []\n",
    "for st in startpts:\n",
    "    sleep = data.iloc[st : st + 60 * 24 * 6, [kidn, -4, -3, -2, -1]]\n",
    "    sleep = sleep.rename(columns={str(kidn-1): 'sleep'})\n",
    "    y_avg_true += [data.iloc[st + 60 * 24 * 6, kidn]]\n",
    "    y_avg_pred += [LGBMavg.predict_proba(sleep)]"
   ],
   "metadata": {
    "collapsed": false,
    "pycharm": {
     "name": "#%%\n"
    }
   }
  },
  {
   "cell_type": "code",
   "execution_count": 44,
   "outputs": [
    {
     "name": "stdout",
     "output_type": "stream",
     "text": [
      "Best Threshold = 0.527559, G-Mean = 0.872\n"
     ]
    },
    {
     "data": {
      "text/plain": "<Figure size 432x288 with 1 Axes>",
      "image/png": "[encoded data removed]"
     },
     "metadata": {
      "needs_background": "light"
     },
     "output_type": "display_data"
    }
   ],
   "source": [
    "fig, ax = plt.subplots()\n",
    "RocCurveDisplay.from_predictions(y_avg_true, y_avg_pred, ax = ax)\n",
    "fig.savefig('roc_curves/LGBM_avg.png')\n",
    "best_threshold(y_avg_true, y_avg_pred)"
   ],
   "metadata": {
    "collapsed": false,
    "pycharm": {
     "name": "#%%\n"
    }
   }
  },
  {
   "cell_type": "markdown",
   "source": [
    "### SARIMAX model ROC curve\n",
    "An equivalent evaluation of the performance of the SARIMAX model will be much more time-consuming. This is primarily due to how heavy SARIMAX model with 144-step period is.\n",
    "Therefore, instead of using the random sampling of time periods as above, I will first train the model on the period between 110 and 120 days and then construct a sequence of NUMBER 1-step predictions each time updating SARIMAX model with new data, but without re-evaluating parameters of the model."
   ],
   "metadata": {
    "collapsed": false,
    "pycharm": {
     "name": "#%% md\n"
    }
   }
  },
  {
   "cell_type": "code",
   "execution_count": 14,
   "outputs": [],
   "source": [
    "sleep = data.iloc[70 * 24 * 6 : 130 * 24 * 6, [kidn, -4, -3, -2, -1]]\n",
    "sleep = sleep.rename(columns={str(kidn-1): 'sleep'})\n",
    "time0 = pd.to_datetime('11/11/2022')"
   ],
   "metadata": {
    "collapsed": false,
    "pycharm": {
     "name": "#%%\n"
    }
   }
  },
  {
   "cell_type": "code",
   "execution_count": 15,
   "outputs": [
    {
     "name": "stdout",
     "output_type": "stream",
     "text": [
      "begin update\n"
     ]
    },
    {
     "name": "stderr",
     "output_type": "stream",
     "text": [
      "/Users/olegdubinkin/Documents/Python/PyCharm/BabySleep/venv/lib/python3.8/site-packages/statsmodels/tsa/base/tsa_model.py:471: ValueWarning: No frequency information was provided, so inferred frequency 10T will be used.\n",
      "  self._init_dates(dates, freq)\n",
      "/Users/olegdubinkin/Documents/Python/PyCharm/BabySleep/venv/lib/python3.8/site-packages/statsmodels/tsa/base/tsa_model.py:471: ValueWarning: No frequency information was provided, so inferred frequency 10T will be used.\n",
      "  self._init_dates(dates, freq)\n",
      " This problem is unconstrained.\n"
     ]
    },
    {
     "name": "stdout",
     "output_type": "stream",
     "text": [
      "RUNNING THE L-BFGS-B CODE\n",
      "\n",
      "           * * *\n",
      "\n",
      "Machine precision = 2.220D-16\n",
      " N =           14     M =           10\n",
      "\n",
      "At X0         0 variables are exactly at the bounds\n",
      "\n",
      "At iterate    0    f=  1.24301D-01    |proj g|=  8.99865D-01\n",
      "\n",
      "At iterate    5    f=  9.39559D-02    |proj g|=  1.08774D-01\n",
      "\n",
      "At iterate   10    f=  8.93616D-02    |proj g|=  1.48513D-01\n",
      "\n",
      "At iterate   15    f=  6.81085D-02    |proj g|=  5.14347D-01\n",
      "\n",
      "At iterate   20    f=  5.11189D-02    |proj g|=  4.33297D-03\n",
      "\n",
      "At iterate   25    f=  5.09936D-02    |proj g|=  2.04386D-03\n",
      "\n",
      "At iterate   30    f=  5.09765D-02    |proj g|=  1.74775D-04\n",
      "\n",
      "           * * *\n",
      "\n",
      "Tit   = total number of iterations\n",
      "Tnf   = total number of function evaluations\n",
      "Tnint = total number of segments explored during Cauchy searches\n",
      "Skip  = number of BFGS updates skipped\n",
      "Nact  = number of active bounds at final generalized Cauchy point\n",
      "Projg = norm of the final projected gradient\n",
      "F     = final function value\n",
      "\n",
      "           * * *\n",
      "\n",
      "   N    Tit     Tnf  Tnint  Skip  Nact     Projg        F\n",
      "   14     32     39      1     0     0   1.823D-04   5.098D-02\n",
      "  F =   5.0976457777511253E-002\n",
      "\n",
      "CONVERGENCE: REL_REDUCTION_OF_F_<=_FACTR*EPSMCH             \n"
     ]
    },
    {
     "ename": "FileExistsError",
     "evalue": "[Errno 17] File exists: 'saved_models/SARIMAX_time.txt'",
     "output_type": "error",
     "traceback": [
      "\u001B[0;31m---------------------------------------------------------------------------\u001B[0m",
      "\u001B[0;31mFileExistsError\u001B[0m                           Traceback (most recent call last)",
      "Input \u001B[0;32mIn [15]\u001B[0m, in \u001B[0;36m<cell line: 1>\u001B[0;34m()\u001B[0m\n\u001B[0;32m----> 1\u001B[0m \u001B[43mSARIMAXfc\u001B[49m\u001B[38;5;241;43m.\u001B[39;49m\u001B[43mmodel_update\u001B[49m\u001B[43m(\u001B[49m\u001B[43msleep\u001B[49m\u001B[43m,\u001B[49m\u001B[43m \u001B[49m\u001B[43mtime0\u001B[49m\u001B[43m,\u001B[49m\u001B[43m \u001B[49m\u001B[38;5;124;43m'\u001B[39;49m\u001B[38;5;124;43m'\u001B[39;49m\u001B[43m)\u001B[49m\n",
      "File \u001B[0;32m~/Documents/Python/PyCharm/BabySleep/src/models/SARIMAX.py:50\u001B[0m, in \u001B[0;36mmodel_update\u001B[0;34m(sleep, time0, MODEL_PATH)\u001B[0m\n\u001B[1;32m     47\u001B[0m res\u001B[38;5;241m.\u001B[39msave(os\u001B[38;5;241m.\u001B[39mpath\u001B[38;5;241m.\u001B[39mjoin(MODEL_PATH, \u001B[38;5;124m'\u001B[39m\u001B[38;5;124msaved_models/SARIMAX.pkl\u001B[39m\u001B[38;5;124m'\u001B[39m))\n\u001B[1;32m     49\u001B[0m file \u001B[38;5;241m=\u001B[39m \u001B[38;5;28mopen\u001B[39m(os\u001B[38;5;241m.\u001B[39mpath\u001B[38;5;241m.\u001B[39mjoin(MODEL_PATH,\u001B[38;5;124m'\u001B[39m\u001B[38;5;124msaved_models/SARIMAX_time.txt\u001B[39m\u001B[38;5;124m'\u001B[39m), \u001B[38;5;124m'\u001B[39m\u001B[38;5;124mx\u001B[39m\u001B[38;5;124m'\u001B[39m)\n\u001B[0;32m---> 50\u001B[0m file\u001B[38;5;241m.\u001B[39mwrite(timeseries\u001B[38;5;241m.\u001B[39mindex[\u001B[38;5;241m-\u001B[39m\u001B[38;5;241m1\u001B[39m]\u001B[38;5;241m.\u001B[39mstrftime(\u001B[38;5;124m'\u001B[39m\u001B[38;5;124m%\u001B[39m\u001B[38;5;124mY-\u001B[39m\u001B[38;5;124m%\u001B[39m\u001B[38;5;124mm-\u001B[39m\u001B[38;5;132;01m%d\u001B[39;00m\u001B[38;5;124m \u001B[39m\u001B[38;5;132;01m%X\u001B[39;00m\u001B[38;5;124m'\u001B[39m))\n\u001B[1;32m     51\u001B[0m file\u001B[38;5;241m.\u001B[39mclose()\n",
      "\u001B[0;31mFileExistsError\u001B[0m: [Errno 17] File exists: 'saved_models/SARIMAX_time.txt'"
     ]
    }
   ],
   "source": [
    "SARIMAXfc.model_update(sleep, time0, '')"
   ],
   "metadata": {
    "collapsed": false,
    "pycharm": {
     "name": "#%%\n"
    }
   }
  },
  {
   "cell_type": "code",
   "execution_count": 18,
   "outputs": [
    {
     "name": "stdout",
     "output_type": "stream",
     "text": [
      "CPU times: user 6min 19s, sys: 4min 51s, total: 11min 10s\n",
      "Wall time: 4min 2s\n"
     ]
    }
   ],
   "source": [
    "%%time\n",
    "y_sm_true = []\n",
    "y_sm_pred = []\n",
    "npts = 1\n",
    "for st in (70 * 24 * 6 + 1, 70 * 24 * 6 + 1 + npts):\n",
    "    sleep = data.iloc[st : st + 60 * 24 * 6, [kidn, -4, -3, -2, -1]]\n",
    "    sleep = sleep.rename(columns={str(kidn-1): 'sleep'})\n",
    "    y_sm_true += [data.iloc[st + 60 * 24 * 6, kidn]]\n",
    "    y_sm_pred += [SARIMAXfc.predict_proba(sleep, DATA_PATH, '')]"
   ],
   "metadata": {
    "collapsed": false,
    "pycharm": {
     "name": "#%%\n"
    }
   }
  },
  {
   "cell_type": "code",
   "execution_count": null,
   "outputs": [],
   "source": [
    "RocCurveDisplay.from_predictions(y_sm_true, y_sm_pred)"
   ],
   "metadata": {
    "collapsed": false,
    "pycharm": {
     "name": "#%%\n"
    }
   }
  },
  {
   "cell_type": "markdown",
   "source": [
    "This evaluation will take quite a long time, I will leave it out for now..."
   ],
   "metadata": {
    "collapsed": false,
    "pycharm": {
     "name": "#%% md\n"
    }
   }
  },
  {
   "cell_type": "markdown",
   "source": [
    "### 2. ROC Curves for tough examples\n",
    "Finally, let us consider the examples which are probably the toughest ones to classify correctly. The analysis done above most likely was dominated by examples where the baby's sleep state in the next step was the same as the state in the previous step. Our models, most likely, fail most often when they have to make a decision to change the status from 'sleep' to 'awake' or vice-versa. We can confirm it by calculating the ROC curve for such tough examples. However, in practice we see that our models are perfectly capable to forecast periods of sleep and wakeness. The evaluation below simply reflects the fact that our models can't capture the moment of falling asleep precisely enough."
   ],
   "metadata": {
    "collapsed": false,
    "pycharm": {
     "name": "#%% md\n"
    }
   }
  },
  {
   "cell_type": "code",
   "execution_count": 35,
   "outputs": [],
   "source": [
    "toughpts = []\n",
    "for st in range(start, end):\n",
    "    if data.iloc[st + 60 * 24 * 6 - 1, kidn] != data.iloc[st + 60 * 24 * 6, kidn]:\n",
    "        toughpts += [st]"
   ],
   "metadata": {
    "collapsed": false,
    "pycharm": {
     "name": "#%%\n"
    }
   }
  },
  {
   "cell_type": "code",
   "execution_count": 91,
   "outputs": [],
   "source": [
    "y_true_th = []\n",
    "y_pred_th = []\n",
    "for st in toughpts:\n",
    "    sleep = data.iloc[st : st + 60 * 24 * 6, [kidn, -4, -3, -2, -1]]\n",
    "    sleep = sleep.rename(columns={str(kidn-1): 'sleep'})\n",
    "    y_true_th += [data.iloc[st + 60 * 24 * 6, kidn]]\n",
    "    y_pred_th += [LGBM1step.predict_proba(sleep, DATA_PATH)]"
   ],
   "metadata": {
    "collapsed": false,
    "pycharm": {
     "name": "#%%\n"
    }
   }
  },
  {
   "cell_type": "code",
   "execution_count": 42,
   "outputs": [
    {
     "ename": "NameError",
     "evalue": "name 'y_true_th' is not defined",
     "output_type": "error",
     "traceback": [
      "\u001B[0;31m---------------------------------------------------------------------------\u001B[0m",
      "\u001B[0;31mNameError\u001B[0m                                 Traceback (most recent call last)",
      "Input \u001B[0;32mIn [42]\u001B[0m, in \u001B[0;36m<cell line: 2>\u001B[0;34m()\u001B[0m\n\u001B[1;32m      1\u001B[0m fig, ax \u001B[38;5;241m=\u001B[39m plt\u001B[38;5;241m.\u001B[39msubplots()\n\u001B[0;32m----> 2\u001B[0m RocCurveDisplay\u001B[38;5;241m.\u001B[39mfrom_predictions(\u001B[43my_true_th\u001B[49m, y_pred_th, ax \u001B[38;5;241m=\u001B[39m ax)\n\u001B[1;32m      3\u001B[0m fig\u001B[38;5;241m.\u001B[39msavefig(\u001B[38;5;124m'\u001B[39m\u001B[38;5;124mroc_curves/LGBM_next_step.png\u001B[39m\u001B[38;5;124m'\u001B[39m)\n",
      "\u001B[0;31mNameError\u001B[0m: name 'y_true_th' is not defined"
     ]
    },
    {
     "data": {
      "text/plain": "<Figure size 432x288 with 1 Axes>",
      "image/png": "[encoded data removed]"
     },
     "metadata": {
      "needs_background": "light"
     },
     "output_type": "display_data"
    }
   ],
   "source": [
    "fig, ax = plt.subplots()\n",
    "RocCurveDisplay.from_predictions(y_true_th, y_pred_th, ax = ax)\n",
    "fig.savefig('roc_curves/LGBM_next_step_th.png')"
   ],
   "metadata": {
    "collapsed": false,
    "pycharm": {
     "name": "#%%\n"
    }
   }
  },
  {
   "cell_type": "code",
   "execution_count": 38,
   "outputs": [],
   "source": [
    "y_avg_true_th = []\n",
    "y_avg_pred_th = []\n",
    "for st in toughpts:\n",
    "    sleep = data.iloc[st : st + 60 * 24 * 6, [kidn, -4, -3, -2, -1]]\n",
    "    sleep = sleep.rename(columns={str(kidn-1): 'sleep'})\n",
    "    y_avg_true_th += [data.iloc[st + 60 * 24 * 6, kidn]]\n",
    "    y_avg_pred_th += [LGBMavg.predict_proba(sleep)]"
   ],
   "metadata": {
    "collapsed": false,
    "pycharm": {
     "name": "#%%\n"
    }
   }
  },
  {
   "cell_type": "code",
   "execution_count": 43,
   "outputs": [
    {
     "data": {
      "text/plain": "<Figure size 432x288 with 1 Axes>",
      "image/png": "[encoded data removed]"
     },
     "metadata": {
      "needs_background": "light"
     },
     "output_type": "display_data"
    }
   ],
   "source": [
    "fig, ax = plt.subplots()\n",
    "RocCurveDisplay.from_predictions(y_avg_true_th, y_avg_pred_th, ax = ax)\n",
    "fig.savefig('roc_curves/LGBM_avg_th.png')"
   ],
   "metadata": {
    "collapsed": false,
    "pycharm": {
     "name": "#%%\n"
    }
   }
  },
  {
   "cell_type": "markdown",
   "source": [
    "# Evaluating models' performance forecasting 24 hours of sleep/awake states\n",
    "Here we will evaluate our model's performance when predicting a 24 hours of sleep/awake states."
   ],
   "metadata": {
    "collapsed": false,
    "pycharm": {
     "name": "#%% md\n"
    }
   }
  },
  {
   "cell_type": "code",
   "execution_count": 167,
   "outputs": [],
   "source": [
    "def forecast_eval(data, sleep_pred):\n",
    "    '''\n",
    "    custom function scoring sleep forecast\n",
    "\n",
    "    :param data: NYU processed dataset\n",
    "    :param sleep_pred: sleep forecast returned by one of the models in our package\n",
    "    :return: a model score between 0 (worst) and 1 (best)\n",
    "    '''\n",
    "\n",
    "    sleep = data.iloc[:, [kidn]]\n",
    "    sleep = sleep.rename(columns={str(kidn-1): 'sleep'})\n",
    "    conv = np.array([1, 1, 2, 3, 6, 3, 2, 1, 1]) / 20\n",
    "    sleep_pred_sm = pred_proc.smooth(sleep_pred, conv, 64)[64:]\n",
    "\n",
    "    sleep = sleep.sleep[sleep.index >= sleep_pred_sm.index[0]]\n",
    "    sleep = pd.DataFrame(sleep[sleep.index <= sleep_pred_sm.index[-1]])\n",
    "\n",
    "    day_score = 1 - abs((sleep.values - sleep_pred_sm.values)).sum() / sleep_pred_sm.values.shape[0]\n",
    "\n",
    "    return day_score"
   ],
   "metadata": {
    "collapsed": false,
    "pycharm": {
     "name": "#%%\n"
    }
   }
  },
  {
   "cell_type": "code",
   "execution_count": 169,
   "outputs": [],
   "source": [
    "kidn = 10\n",
    "st = 130 * 24 * 6\n",
    "en = st + 60 * 24 * 6\n",
    "forecast_period = 24 * 6 + 10"
   ],
   "metadata": {
    "collapsed": false,
    "pycharm": {
     "name": "#%%\n"
    }
   }
  },
  {
   "cell_type": "code",
   "execution_count": 170,
   "outputs": [],
   "source": [
    "scores_avg = []\n",
    "for st in startpts:\n",
    "    en = st + 60 * 24 * 6\n",
    "    sleep = data.iloc[st : en, [kidn, -4, -3, -2, -1]]\n",
    "    sleep = sleep.rename(columns={str(kidn-1): 'sleep'})\n",
    "    sleep_pred = LGBMavg.forecast(sleep, sleep.index[-1], forecast_period)\n",
    "    scores_avg += [forecast_eval(data, sleep_pred)]"
   ],
   "metadata": {
    "collapsed": false,
    "pycharm": {
     "name": "#%%\n"
    }
   }
  },
  {
   "cell_type": "code",
   "execution_count": null,
   "outputs": [],
   "source": [
    "scores_1step = []\n",
    "for st in startpts:\n",
    "    en = st + 60 * 24 * 6\n",
    "    sleep = data.iloc[st : en, [kidn, -4, -3, -2, -1]]\n",
    "    sleep = sleep.rename(columns={str(kidn-1): 'sleep'})\n",
    "    sleep_pred = LGBM1step.forecast(sleep, sleep.index[-1], '../../data/', forecast_period)\n",
    "    scores_1step += [forecast_eval(data, sleep_pred)]"
   ],
   "metadata": {
    "collapsed": false,
    "pycharm": {
     "name": "#%%\n",
     "is_executing": true
    }
   }
  },
  {
   "cell_type": "code",
   "execution_count": 165,
   "outputs": [
    {
     "name": "stdout",
     "output_type": "stream",
     "text": [
      "0.8075342465753425\n",
      "CPU times: user 4min 30s, sys: 8.81 s, total: 4min 39s\n",
      "Wall time: 22.4 s\n"
     ]
    },
    {
     "data": {
      "text/plain": "<AxesSubplot:xlabel='timestamps'>"
     },
     "execution_count": 165,
     "metadata": {},
     "output_type": "execute_result"
    },
    {
     "data": {
      "text/plain": "<Figure size 1152x288 with 1 Axes>",
      "image/png": "[encoded data removed]"
     },
     "metadata": {
      "needs_background": "light"
     },
     "output_type": "display_data"
    }
   ],
   "source": [
    "%%time\n",
    "\n",
    "kidn = 10\n",
    "st = 141 * 24 * 6\n",
    "en = st + 60 * 24 * 6\n",
    "forecast_period = 24 * 6 + 10\n",
    "sleep = data.iloc[st : en, [kidn, -4, -3, -2, -1]]\n",
    "sleep = sleep.rename(columns={str(kidn-1): 'sleep'})\n",
    "\n",
    "#sleep_pred = LGBMavg.forecast(sleep, sleep.index[-1], forecast_period)\n",
    "sleep_pred = LGBM1step.forecast(sleep, sleep.index[-1], '../../data/', forecast_period)\n",
    "\n",
    "def forecast_eval_test(data, sleep_pred):\n",
    "    sleep = data.iloc[:, [kidn]]\n",
    "    sleep = sleep.rename(columns={str(kidn-1): 'sleep'})\n",
    "    conv = np.array([1, 1, 2, 3, 6, 3, 2, 1, 1]) / 20\n",
    "    sleep_pred_sm = pred_proc.smooth(sleep_pred, conv, 64)[64:]\n",
    "\n",
    "    sleep = sleep.sleep[sleep.index >= sleep_pred_sm.index[0]]\n",
    "    sleep = pd.DataFrame(sleep[sleep.index <= sleep_pred_sm.index[-1]])\n",
    "\n",
    "    day_score = 1 - abs((sleep.values - sleep_pred_sm.values)).sum() / sleep_pred_sm.values.shape[0]\n",
    "\n",
    "    return sleep, sleep_pred_sm, day_score\n",
    "\n",
    "sltr, slpr, scr = forecast_eval_test(data, sleep_pred)\n",
    "print(scr)\n",
    "fig, ax = plt.subplots(figsize=(16, 4))\n",
    "slpr.plot(ax = ax)\n",
    "sltr.plot(ax = ax)"
   ],
   "metadata": {
    "collapsed": false,
    "pycharm": {
     "name": "#%%\n"
    }
   }
  }
 ],
 "metadata": {
  "kernelspec": {
   "display_name": "Python 3",
   "language": "python",
   "name": "python3"
  },
  "language_info": {
   "codemirror_mode": {
    "name": "ipython",
    "version": 2
   },
   "file_extension": ".py",
   "mimetype": "text/x-python",
   "name": "python",
   "nbconvert_exporter": "python",
   "pygments_lexer": "ipython2",
   "version": "2.7.6"
  }
 },
 "nbformat": 4,
 "nbformat_minor": 0
}