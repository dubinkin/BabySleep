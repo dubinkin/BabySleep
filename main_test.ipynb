{
 "cells": [
  {
   "cell_type": "code",
   "execution_count": 4,
   "metadata": {
    "collapsed": true
   },
   "outputs": [],
   "source": [
    "import src.data_processing.load_data as load_data\n",
    "import src.data_processing.prediction_processing as predprocess\n",
    "import src.models.LGBM_sleepy_score as sscore\n",
    "import src.models.ensemble as ensemble\n",
    "import src.models.SARIMAX as SARIMAXfc\n",
    "import numpy as np\n",
    "import pandas as pd\n",
    "import os\n",
    "import time\n",
    "from statsmodels.tsa.statespace.sarimax import SARIMAX, SARIMAXResults\n",
    "\n",
    "import matplotlib.pyplot as plt"
   ]
  },
  {
   "cell_type": "code",
   "execution_count": null,
   "outputs": [],
   "source": [
    "#load baby's data\n",
    "sleep, time0 = load_data.get_sleep('12/06/2021', 'data/')"
   ],
   "metadata": {
    "collapsed": false,
    "pycharm": {
     "name": "#%%\n",
     "is_executing": true
    }
   }
  },
  {
   "cell_type": "code",
   "execution_count": 7,
   "outputs": [],
   "source": [
    "time0 = time0 + pd.DateOffset(days = 100)"
   ],
   "metadata": {
    "collapsed": false,
    "pycharm": {
     "name": "#%%\n"
    }
   }
  },
  {
   "cell_type": "code",
   "execution_count": 8,
   "outputs": [],
   "source": [
    "weights = np.array([1, 1, 1])\n",
    "conv = np.array([1, 1, 2, 4, 6, 4, 2, 1, 1])\n",
    "conv = conv / conv.sum()\n",
    "\n",
    "# define needed variables\n",
    "forecast_period = 1 * 24 * 6 + 30\n",
    "DATA_PATH = 'data/'\n",
    "MODEL_PATH = 'src/models/'"
   ],
   "metadata": {
    "collapsed": false,
    "pycharm": {
     "name": "#%%\n"
    }
   }
  },
  {
   "cell_type": "code",
   "execution_count": null,
   "outputs": [
    {
     "name": "stdout",
     "output_type": "stream",
     "text": [
      "RUNNING THE L-BFGS-B CODE\n",
      "\n",
      "           * * *\n",
      "\n",
      "Machine precision = 2.220D-16\n",
      " N =           14     M =           10\n",
      "\n",
      "At X0         0 variables are exactly at the bounds\n",
      "\n",
      "At iterate    0    f=  2.94419D-01    |proj g|=  7.07340D-01\n"
     ]
    },
    {
     "name": "stderr",
     "output_type": "stream",
     "text": [
      " This problem is unconstrained.\n"
     ]
    },
    {
     "name": "stdout",
     "output_type": "stream",
     "text": [
      "\n",
      "At iterate    5    f=  2.61881D-01    |proj g|=  3.95846D-02\n",
      "\n",
      "At iterate   10    f=  2.17003D-01    |proj g|=  1.05516D-01\n",
      "\n",
      "At iterate   15    f=  2.15382D-01    |proj g|=  8.11283D-03\n",
      "\n",
      "At iterate   20    f=  2.14246D-01    |proj g|=  4.48098D-03\n",
      "\n",
      "At iterate   25    f=  2.13992D-01    |proj g|=  6.33631D-03\n",
      "\n",
      "At iterate   30    f=  2.13677D-01    |proj g|=  2.17280D-03\n",
      "\n",
      "At iterate   35    f=  2.13621D-01    |proj g|=  1.40562D-02\n",
      "\n",
      "At iterate   40    f=  2.13606D-01    |proj g|=  9.99377D-04\n",
      "\n",
      "At iterate   45    f=  2.13604D-01    |proj g|=  6.99637D-04\n",
      "\n",
      "           * * *\n",
      "\n",
      "Tit   = total number of iterations\n",
      "Tnf   = total number of function evaluations\n",
      "Tnint = total number of segments explored during Cauchy searches\n",
      "Skip  = number of BFGS updates skipped\n",
      "Nact  = number of active bounds at final generalized Cauchy point\n",
      "Projg = norm of the final projected gradient\n",
      "F     = final function value\n",
      "\n",
      "           * * *\n",
      "\n",
      "   N    Tit     Tnf  Tnint  Skip  Nact     Projg        F\n",
      "   14     45     63      1     0     0   6.996D-04   2.136D-01\n",
      "  F =  0.21360441368539507     \n",
      "\n",
      "CONVERGENCE: REL_REDUCTION_OF_F_<=_FACTR*EPSMCH             \n"
     ]
    }
   ],
   "source": [
    "SARIMAXfc.model_update(sleep, time0, MODEL_PATH)"
   ],
   "metadata": {
    "collapsed": false,
    "pycharm": {
     "name": "#%%\n",
     "is_executing": true
    }
   }
  },
  {
   "cell_type": "code",
   "execution_count": 10,
   "outputs": [],
   "source": [
    "timeseries = (sleep.sleep - sleep.trend)[-10 * 24 * 6 - 12 * 6 :]"
   ],
   "metadata": {
    "collapsed": false,
    "pycharm": {
     "name": "#%%\n"
    }
   }
  },
  {
   "cell_type": "code",
   "execution_count": null,
   "outputs": [],
   "source": [
    "fc3 = SARIMAXfc.forecast(sleep, time0, DATA_PATH, MODEL_PATH, forecast_period)"
   ],
   "metadata": {
    "collapsed": false,
    "pycharm": {
     "name": "#%%\n"
    }
   }
  },
  {
   "cell_type": "code",
   "execution_count": 11,
   "outputs": [],
   "source": [
    "#load the latest fitted model\n",
    "res = SARIMAXResults.load(os.path.join(MODEL_PATH, 'saved_models/SARIMAX.pkl'))"
   ],
   "metadata": {
    "collapsed": false,
    "pycharm": {
     "name": "#%%\n"
    }
   }
  },
  {
   "cell_type": "code",
   "execution_count": null,
   "outputs": [],
   "source": [
    "res.summary()"
   ],
   "metadata": {
    "collapsed": false,
    "pycharm": {
     "name": "#%%\n",
     "is_executing": true
    }
   }
  },
  {
   "cell_type": "code",
   "execution_count": 13,
   "outputs": [],
   "source": [
    "#update model with the new data\n",
    "file = open(os.path.join(MODEL_PATH, 'saved_models/SARIMAX_time.txt'), 'r')\n",
    "last_time = pd.Timestamp(file.read())\n",
    "timeseries0 = timeseries[timeseries.index > last_time]"
   ],
   "metadata": {
    "collapsed": false,
    "pycharm": {
     "name": "#%%\n"
    }
   }
  },
  {
   "cell_type": "code",
   "execution_count": 32,
   "outputs": [
    {
     "data": {
      "text/plain": "2000-04-15 16:20:00    0.727273\n2000-04-15 16:30:00    0.727273\n2000-04-15 16:40:00   -0.265152\n2000-04-15 16:50:00   -0.257576\n2000-04-15 17:00:00   -0.257576\n                         ...   \n2000-04-16 02:10:00    0.053030\n2000-04-16 02:20:00    0.045455\n2000-04-16 02:30:00   -0.924242\n2000-04-16 02:40:00   -0.901515\n2000-04-16 02:50:00    0.090909\nFreq: 10T, Length: 64, dtype: float64"
     },
     "execution_count": 32,
     "metadata": {},
     "output_type": "execute_result"
    }
   ],
   "source": [
    "timeseries[-498-64:-498]"
   ],
   "metadata": {
    "collapsed": false,
    "pycharm": {
     "name": "#%%\n"
    }
   }
  },
  {
   "cell_type": "code",
   "execution_count": 27,
   "outputs": [
    {
     "data": {
      "text/plain": "2000-04-16 01:20:00    0.083333\n2000-04-16 01:30:00    0.075758\n2000-04-16 01:40:00    0.090909\n2000-04-16 01:50:00    0.083333\n2000-04-16 02:00:00    0.053030\n2000-04-16 02:10:00    0.053030\n2000-04-16 02:20:00    0.045455\n2000-04-16 02:30:00   -0.924242\n2000-04-16 02:40:00   -0.901515\n2000-04-16 02:50:00    0.090909\nFreq: 10T, dtype: float64"
     },
     "execution_count": 27,
     "metadata": {},
     "output_type": "execute_result"
    }
   ],
   "source": [
    "timeseries0[:10]"
   ],
   "metadata": {
    "collapsed": false,
    "pycharm": {
     "name": "#%%\n"
    }
   }
  },
  {
   "cell_type": "code",
   "execution_count": null,
   "outputs": [],
   "source": [
    "res = res.append(timeseries0[20:])"
   ],
   "metadata": {
    "collapsed": false,
    "pycharm": {
     "name": "#%%\n",
     "is_executing": true
    }
   }
  },
  {
   "cell_type": "code",
   "execution_count": 19,
   "outputs": [],
   "source": [
    "#get the forecast\n",
    "forecast = res.get_forecast(steps = forecast_period)"
   ],
   "metadata": {
    "collapsed": false,
    "pycharm": {
     "name": "#%%\n"
    }
   }
  },
  {
   "cell_type": "code",
   "execution_count": 34,
   "outputs": [
    {
     "data": {
      "text/plain": "<AxesSubplot:>"
     },
     "execution_count": 34,
     "metadata": {},
     "output_type": "execute_result"
    },
    {
     "data": {
      "text/plain": "<Figure size 432x288 with 1 Axes>",
      "image/png": "[encoded data removed]"
     },
     "metadata": {
      "needs_background": "light"
     },
     "output_type": "display_data"
    },
    {
     "data": {
      "text/plain": "<Figure size 432x288 with 1 Axes>",
      "image/png": "[encoded data removed]"
     },
     "metadata": {
      "needs_background": "light"
     },
     "output_type": "display_data"
    }
   ],
   "source": [
    "prediction = pd.Series(forecast.predicted_mean)\n",
    "answer = pd.concat([timeseries[-498-64:-498],prediction])\n",
    "answer.plot()\n",
    "answer = pd.DataFrame(answer, columns=['trend'])\n",
    "\n",
    "trend = pd.read_csv(os.path.join(DATA_PATH, 'NYU_data_processed/NYU_trend.csv'), parse_dates=['timestamps'], index_col= 'timestamps')\n",
    "addtrend = pd.DataFrame(trend.trend[answer.index[0]:answer.index[-1]])\n",
    "\n",
    "answer = answer + addtrend\n",
    "answer.trend = (answer.trend > 0.5).astype(int)\n",
    "answer.index += time0 - answer.index[63]\n",
    "answer.plot()"
   ],
   "metadata": {
    "collapsed": false,
    "pycharm": {
     "name": "#%%\n"
    }
   }
  },
  {
   "cell_type": "code",
   "execution_count": 25,
   "outputs": [
    {
     "data": {
      "text/plain": "<AxesSubplot:>"
     },
     "execution_count": 25,
     "metadata": {},
     "output_type": "execute_result"
    },
    {
     "data": {
      "text/plain": "<Figure size 432x288 with 1 Axes>",
      "image/png": "[encoded data removed]"
     },
     "metadata": {
      "needs_background": "light"
     },
     "output_type": "display_data"
    }
   ],
   "source": [
    "forecast.predicted_mean.plot()"
   ],
   "metadata": {
    "collapsed": false,
    "pycharm": {
     "name": "#%%\n"
    }
   }
  },
  {
   "cell_type": "code",
   "execution_count": null,
   "outputs": [],
   "source": [
    "ans, pred1, pred2, pred3 = ensemble.forecast(sleep, time0, DATA_PATH, MODEL_PATH,\n",
    "                                      forecast_period, weights, conv, conv)"
   ],
   "metadata": {
    "collapsed": false,
    "pycharm": {
     "name": "#%%\n"
    }
   }
  },
  {
   "cell_type": "code",
   "execution_count": null,
   "outputs": [],
   "source": [
    "fig, ax = plt.subplots(figsize = (10, 4))\n",
    "ans.plot(ax = ax)\n",
    "hrs_begin = ans.index[0].ceil(freq='1h')\n",
    "hrs_end = ans.index[-1].floor(freq='1h')\n",
    "allhrs = pd.date_range(start = hrs_begin, end = hrs_end, freq = '1h')\n",
    "plt.vlines(x=allhrs, ymin=-0.01, ymax=1.0, colors='gray', alpha = 0.25)\n",
    "plt.fill_between(x = ans.index, y1 = ans.trend, alpha = 0.25)\n",
    "plt.yticks([])\n",
    "plt.text(-0.05,0.95,'Sleeping',horizontalalignment='center',\n",
    "             verticalalignment='center', transform = ax.transAxes)\n",
    "plt.text(-0.05,0.05,'Awake',horizontalalignment='center',\n",
    "             verticalalignment='center', transform = ax.transAxes)\n",
    "ax.get_legend().remove()\n",
    "plt.show()"
   ],
   "metadata": {
    "collapsed": false,
    "pycharm": {
     "name": "#%%\n"
    }
   }
  }
 ],
 "metadata": {
  "kernelspec": {
   "display_name": "Python 3",
   "language": "python",
   "name": "python3"
  },
  "language_info": {
   "codemirror_mode": {
    "name": "ipython",
    "version": 2
   },
   "file_extension": ".py",
   "mimetype": "text/x-python",
   "name": "python",
   "nbconvert_exporter": "python",
   "pygments_lexer": "ipython2",
   "version": "2.7.6"
  }
 },
 "nbformat": 4,
 "nbformat_minor": 0
}